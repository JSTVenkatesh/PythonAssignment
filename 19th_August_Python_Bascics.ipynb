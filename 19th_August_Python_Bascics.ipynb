{
 "cells": [
  {
   "cell_type": "markdown",
   "id": "db73dd35-aeb9-4927-9c55-0459033771d5",
   "metadata": {},
   "source": [
    "1) Declare two variables, `x` and `y`, and assign them integer values. Swap the values of these variables without using any temporary variable"
   ]
  },
  {
   "cell_type": "code",
   "execution_count": 11,
   "id": "59287628-ff85-42ca-ada5-41546336ec0a",
   "metadata": {},
   "outputs": [],
   "source": [
    "# Getting inputs of x and y then, displaying the swaped values"
   ]
  },
  {
   "cell_type": "code",
   "execution_count": 23,
   "id": "432472bc-63ea-4e5c-9df8-08c3178ffc22",
   "metadata": {},
   "outputs": [
    {
     "name": "stdin",
     "output_type": "stream",
     "text": [
      "Enter value for x:  12\n",
      "Please enter value for y:  36\n"
     ]
    },
    {
     "name": "stdout",
     "output_type": "stream",
     "text": [
      "The Value of x after swapping:  36\n",
      "The Value of y after swapping:  12\n"
     ]
    }
   ],
   "source": [
    "x = int( input(\"Enter value for x: \"))\n",
    "y = int( input(\"Please enter value for y: \"))\n",
    "x,y = y,x\n",
    "print (\"The Value of x after swapping: \", x)\n",
    "print (\"The Value of y after swapping: \", y)"
   ]
  },
  {
   "cell_type": "markdown",
   "id": "f7f545ae-9c00-4270-b185-b0bdbbbdd3a5",
   "metadata": {},
   "source": [
    "2) Create a program that calculates the area of a rectangle. Take the length and width as inputs from the user and store them in variables.\n",
    "Calculate and display the area.\n"
   ]
  },
  {
   "cell_type": "code",
   "execution_count": 17,
   "id": "c3dd185b-fd37-4d81-8372-47c2a17ae182",
   "metadata": {},
   "outputs": [],
   "source": [
    "# Getting inputs of length and breadth of Rectangle then, displaying the Area of Rectangle"
   ]
  },
  {
   "cell_type": "code",
   "execution_count": 25,
   "id": "65c87922-e033-4dd0-8922-90783fc7353b",
   "metadata": {},
   "outputs": [
    {
     "name": "stdin",
     "output_type": "stream",
     "text": [
      "Enter value for length:  unit 2.5\n",
      "Enter value for breadth:  3.6\n"
     ]
    },
    {
     "name": "stdout",
     "output_type": "stream",
     "text": [
      "Area of the Rectangle is:  9.0\n"
     ]
    }
   ],
   "source": [
    "l = float( input(\"Enter value for length:  unit\"))\n",
    "b = float( input(\"Enter value for breadth: \"))\n",
    "print(\"Area of the Rectangle is: \", l*b)"
   ]
  },
  {
   "cell_type": "markdown",
   "id": "9a167de8-c5bf-4e2c-96c3-89565c2976b0",
   "metadata": {},
   "source": [
    "3.Write a Python program that converts temperature from Celsius to  Fahrenheit. Take the temperature in Celsius as input, store it in a\n",
    " variable, convert it to Fahrenheit, and display the result.\n",
    " "
   ]
  },
  {
   "cell_type": "code",
   "execution_count": 4,
   "id": "47822dfd-9aab-4851-a45d-047289b0b089",
   "metadata": {},
   "outputs": [],
   "source": [
    "# Getting inputs of Temperature in Celsuis Scale then, coverting the value from Celsuis SCale to Fahrenheit Scale"
   ]
  },
  {
   "cell_type": "code",
   "execution_count": 27,
   "id": "011a8cf8-97b2-4b95-bf99-8df3ff9a7e57",
   "metadata": {},
   "outputs": [
    {
     "name": "stdin",
     "output_type": "stream",
     "text": [
      "Enter value in Temperature in Celsius Scale:  0\n"
     ]
    },
    {
     "name": "stdout",
     "output_type": "stream",
     "text": [
      "The equivalent value in Fahrenheit Scale is:  32.0\n"
     ]
    }
   ],
   "source": [
    "Temp=float( input(\"Enter value in Temperature in Celsius Scale: \"))\n",
    "print(\"The equivalent value in Fahrenheit Scale is: \", (Temp * 9/5)+32)"
   ]
  },
  {
   "cell_type": "markdown",
   "id": "38b1a770-d97b-4990-a3f9-e12ca00be6fd",
   "metadata": {},
   "source": [
    "String Based Questions"
   ]
  },
  {
   "cell_type": "markdown",
   "id": "371039ba-bb7f-4f4d-a679-f5b849e02b17",
   "metadata": {},
   "source": [
    "1) Write a Python program that takes a string as input and prints the length of the string."
   ]
  },
  {
   "cell_type": "code",
   "execution_count": 7,
   "id": "a326d520-400f-45df-b29e-fac55c874135",
   "metadata": {},
   "outputs": [],
   "source": [
    "# Getting String inputs then, displaying the length of the given string"
   ]
  },
  {
   "cell_type": "code",
   "execution_count": 3,
   "id": "8447f110-9650-4ab0-be1d-27484d68e1ea",
   "metadata": {},
   "outputs": [
    {
     "name": "stdin",
     "output_type": "stream",
     "text": [
      "Enter a String :  Rukmani\n"
     ]
    },
    {
     "name": "stdout",
     "output_type": "stream",
     "text": [
      "The Length of the String is:  7\n"
     ]
    }
   ],
   "source": [
    "str= str(input(\"Enter a String : \"))\n",
    "print(\"The Length of the String is: \",len(str))"
   ]
  },
  {
   "cell_type": "markdown",
   "id": "43793e4b-1296-4bc6-85e7-6a1d7dcdf8ad",
   "metadata": {},
   "source": [
    "2) Create a program that takes a sentence from the user and counts the number of vowels (a, e, i, o, u) in the string."
   ]
  },
  {
   "cell_type": "code",
   "execution_count": 12,
   "id": "61bb8b4e-b332-41d6-acd1-5006f54a9a74",
   "metadata": {},
   "outputs": [],
   "source": [
    "# Getting String inputs"
   ]
  },
  {
   "cell_type": "code",
   "execution_count": 4,
   "id": "b15a53ec-7ed2-4543-8cc9-8c5ea5e92495",
   "metadata": {},
   "outputs": [
    {
     "name": "stdin",
     "output_type": "stream",
     "text": [
      "Enter a String :  Indonesia if friendly nation\n"
     ]
    },
    {
     "name": "stdout",
     "output_type": "stream",
     "text": [
      "The counts of vowels in Test is: 11\n"
     ]
    }
   ],
   "source": [
    "Test = input(\"Enter a String : \")\n",
    "vowels = [\"a\", \"e\", \"i\", \"o\", \"u\"]\n",
    "count = 0\n",
    "for char in Test:\n",
    "    char_lower=char.lower()\n",
    "    if char_lower in vowels:\n",
    "        count += 1\n",
    "print('The counts of vowels in Test is:',count)"
   ]
  },
  {
   "cell_type": "markdown",
   "id": "98ff39ad-c3fa-41c9-b195-84c785fcc3e7",
   "metadata": {},
   "source": [
    "3. Given a string, reverse the order of characters using string slicing and print the reversed string.\n"
   ]
  },
  {
   "cell_type": "code",
   "execution_count": 6,
   "id": "0eb54c6e-74a5-4b1e-a397-0ce36c29f9c5",
   "metadata": {},
   "outputs": [],
   "source": [
    "# Getting String inputs and displaying the reverse of the string"
   ]
  },
  {
   "cell_type": "code",
   "execution_count": 9,
   "id": "c915a4ba-cd4d-43d9-95a6-c55ff7dd0d97",
   "metadata": {},
   "outputs": [
    {
     "name": "stdin",
     "output_type": "stream",
     "text": [
      "Enter the string:  Srujan\n"
     ]
    },
    {
     "name": "stdout",
     "output_type": "stream",
     "text": [
      "Reversed String is: najurS\n"
     ]
    }
   ],
   "source": [
    "Test = input(\"Enter the string: \")\n",
    "Test_1=Test[::-1]\n",
    "print(\"Reversed String is:\",Test_1)"
   ]
  },
  {
   "cell_type": "markdown",
   "id": "67acb307-04cd-4d12-bb6f-b206d65a7c49",
   "metadata": {},
   "source": [
    "4. Write a program that takes a string as input and checks if it is a palindrome (reads the same forwards and backwards)."
   ]
  },
  {
   "cell_type": "code",
   "execution_count": null,
   "id": "d29ac414-039b-4fdb-bdd6-d4b113a9d732",
   "metadata": {},
   "outputs": [],
   "source": [
    "# Getting String inputs and check whether it is palindrome or not"
   ]
  },
  {
   "cell_type": "code",
   "execution_count": 1,
   "id": "fa7704f6-64d4-41c7-af76-e072837beb85",
   "metadata": {},
   "outputs": [
    {
     "name": "stdin",
     "output_type": "stream",
     "text": [
      "Enter the string:  AmmA\n"
     ]
    },
    {
     "name": "stdout",
     "output_type": "stream",
     "text": [
      "The Reverse String is : amma\n",
      "It is a palindrome\n"
     ]
    }
   ],
   "source": [
    "A = input(\"Enter the string: \")\n",
    "Ab=A.lower()\n",
    "Ac=Ab[::-1]\n",
    "print(\"The Reverse String is :\",Ac)\n",
    "if Ac==Ab:\n",
    "    print('It is a palindrome')\n",
    "else:\n",
    "    print('It is not a palindrome')"
   ]
  },
  {
   "cell_type": "code",
   "execution_count": null,
   "id": "1f10f04a-fa37-40e0-bcca-595592165ef6",
   "metadata": {},
   "outputs": [],
   "source": [
    "5. Create a program that takes a string as input and removes all the spaces from it. Print the modified string without spaces."
   ]
  },
  {
   "cell_type": "code",
   "execution_count": 1,
   "id": "460677de-12df-4565-9d53-5fb84c7869e0",
   "metadata": {},
   "outputs": [
    {
     "name": "stdin",
     "output_type": "stream",
     "text": [
      "Enter the string:  Abc DFG   vnfiubv\n"
     ]
    },
    {
     "name": "stdout",
     "output_type": "stream",
     "text": [
      "Modified String without Space is:  AbcDFGvnfiubv\n"
     ]
    }
   ],
   "source": [
    "v=input(\"Enter the string: \")\n",
    "v=v.replace(\" \",\"\")\n",
    "print(\"Modified String without Space is: \", v)"
   ]
  }
 ],
 "metadata": {
  "kernelspec": {
   "display_name": "Python 3 (ipykernel)",
   "language": "python",
   "name": "python3"
  },
  "language_info": {
   "codemirror_mode": {
    "name": "ipython",
    "version": 3
   },
   "file_extension": ".py",
   "mimetype": "text/x-python",
   "name": "python",
   "nbconvert_exporter": "python",
   "pygments_lexer": "ipython3",
   "version": "3.10.8"
  }
 },
 "nbformat": 4,
 "nbformat_minor": 5
}
